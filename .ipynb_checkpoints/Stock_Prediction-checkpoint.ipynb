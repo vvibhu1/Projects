{
 "cells": [
  {
   "cell_type": "code",
   "execution_count": 1,
   "metadata": {},
   "outputs": [],
   "source": [
    "import numpy as np\n",
    "import matplotlib.pyplot as plt\n",
    "import pandas as pd\n",
    "import pandas_datareader as web\n",
    "import datetime as dt\n",
    "\n",
    "from sklearn.preprocessing import MinMaxScaler\n",
    "from tensorflow.keras.models import Sequential\n",
    "from tensorflow.keras.layers import Dense, Dropout, LSTM"
   ]
  },
  {
   "cell_type": "code",
   "execution_count": 2,
   "metadata": {},
   "outputs": [],
   "source": [
    "#Load Data\n",
    "company = 'AAPL'\n",
    "\n",
    "start = dt.datetime(2012,1,1)\n",
    "end = dt.datetime(2020,1,1)\n",
    "\n",
    "data = web.DataReader(company,'yahoo',start,end)"
   ]
  },
  {
   "cell_type": "code",
   "execution_count": 3,
   "metadata": {},
   "outputs": [],
   "source": [
    "#Prepare data\n",
    "\n",
    "scaler = MinMaxScaler(feature_range=(0,1))\n",
    "scaled_data = scaler.fit_transform(data['Close'].values.reshape(-1,1))\n",
    "\n",
    "\n",
    "prediction_days = 100\n",
    "\n",
    "x_train=[]\n",
    "y_train=[]\n",
    "\n",
    "for x in range(prediction_days,len(scaled_data)):\n",
    "    x_train.append(scaled_data[x-prediction_days:x,0])\n",
    "    y_train.append(scaled_data[x,0])\n",
    "    \n",
    "x_train,y_train=np.array(x_train),np.array(y_train)\n",
    "x_train = np.reshape(x_train,(x_train.shape[0],x_train.shape[1],1))"
   ]
  },
  {
   "cell_type": "code",
   "execution_count": 4,
   "metadata": {},
   "outputs": [
    {
     "data": {
      "text/plain": [
       "(2012, 1)"
      ]
     },
     "execution_count": 4,
     "metadata": {},
     "output_type": "execute_result"
    }
   ],
   "source": [
    "scaled_data.shape"
   ]
  },
  {
   "cell_type": "code",
   "execution_count": 5,
   "metadata": {},
   "outputs": [
    {
     "data": {
      "text/plain": [
       "(1912, 100, 1)"
      ]
     },
     "execution_count": 5,
     "metadata": {},
     "output_type": "execute_result"
    }
   ],
   "source": [
    "x_train.shape"
   ]
  },
  {
   "cell_type": "code",
   "execution_count": 6,
   "metadata": {},
   "outputs": [
    {
     "name": "stdout",
     "output_type": "stream",
     "text": [
      "Epoch 1/25\n",
      "60/60 [==============================] - 4s 63ms/step - loss: 0.0133\n",
      "Epoch 2/25\n",
      "60/60 [==============================] - 4s 62ms/step - loss: 0.0022\n",
      "Epoch 3/25\n",
      "60/60 [==============================] - 4s 62ms/step - loss: 0.0020\n",
      "Epoch 4/25\n",
      "60/60 [==============================] - 4s 64ms/step - loss: 0.0020\n",
      "Epoch 5/25\n",
      "60/60 [==============================] - 4s 65ms/step - loss: 0.0018\n",
      "Epoch 6/25\n",
      "60/60 [==============================] - 4s 68ms/step - loss: 0.0020\n",
      "Epoch 7/25\n",
      "60/60 [==============================] - 4s 68ms/step - loss: 0.0019\n",
      "Epoch 8/25\n",
      "60/60 [==============================] - 4s 66ms/step - loss: 0.0017\n",
      "Epoch 9/25\n",
      "60/60 [==============================] - 4s 66ms/step - loss: 0.0016\n",
      "Epoch 10/25\n",
      "60/60 [==============================] - 4s 67ms/step - loss: 0.0013\n",
      "Epoch 11/25\n",
      "60/60 [==============================] - 4s 67ms/step - loss: 0.0017\n",
      "Epoch 12/25\n",
      "60/60 [==============================] - 4s 68ms/step - loss: 0.0014\n",
      "Epoch 13/25\n",
      "60/60 [==============================] - 4s 67ms/step - loss: 0.0014\n",
      "Epoch 14/25\n",
      "60/60 [==============================] - 4s 68ms/step - loss: 0.0014\n",
      "Epoch 15/25\n",
      "60/60 [==============================] - 4s 69ms/step - loss: 0.0012\n",
      "Epoch 16/25\n",
      "60/60 [==============================] - 4s 68ms/step - loss: 0.0012\n",
      "Epoch 17/25\n",
      "60/60 [==============================] - 4s 68ms/step - loss: 0.0011\n",
      "Epoch 18/25\n",
      "60/60 [==============================] - 4s 74ms/step - loss: 0.0012\n",
      "Epoch 19/25\n",
      "60/60 [==============================] - 4s 69ms/step - loss: 0.0010\n",
      "Epoch 20/25\n",
      "60/60 [==============================] - 4s 75ms/step - loss: 0.0011\n",
      "Epoch 21/25\n",
      "60/60 [==============================] - 5s 81ms/step - loss: 0.0011\n",
      "Epoch 22/25\n",
      "60/60 [==============================] - 4s 72ms/step - loss: 0.0011\n",
      "Epoch 23/25\n",
      "60/60 [==============================] - 4s 70ms/step - loss: 9.8651e-04\n",
      "Epoch 24/25\n",
      "60/60 [==============================] - 4s 71ms/step - loss: 0.0011\n",
      "Epoch 25/25\n",
      "60/60 [==============================] - 4s 72ms/step - loss: 9.8677e-04\n"
     ]
    },
    {
     "data": {
      "text/plain": [
       "<tensorflow.python.keras.callbacks.History at 0x7f97018d1ed0>"
      ]
     },
     "execution_count": 6,
     "metadata": {},
     "output_type": "execute_result"
    }
   ],
   "source": [
    "#Building the model\n",
    "\n",
    "model = Sequential()\n",
    "model.add(LSTM(units=50,return_sequences=True,input_shape=(x_train.shape[1],1)))\n",
    "model.add(Dropout(0.2))\n",
    "model.add(LSTM(units=50,return_sequences=True))\n",
    "model.add(Dropout(0.2))\n",
    "model.add(LSTM(units=50))\n",
    "model.add(Dropout(0.2))\n",
    "model.add(Dense(units=1)) #Predition/Closing Value\n",
    "\n",
    "model.compile(optimizer='adam',loss='mean_squared_error')\n",
    "model.fit(x_train,y_train,epochs=25,batch_size=32)"
   ]
  },
  {
   "cell_type": "code",
   "execution_count": 7,
   "metadata": {},
   "outputs": [],
   "source": [
    "#How well the model performs on the past data which we have not seen - Test Error\n",
    "\n",
    "test_start = dt.datetime(2020,1,1)\n",
    "test_end = dt.datetime.now()\n",
    "\n",
    "test_data = web.DataReader(company,'yahoo',test_start,test_end)\n",
    "actual_prices = test_data['Close'].values\n",
    "\n",
    "total_dataset = pd.concat((data['Close'],test_data['Close']),axis=0)\n",
    "\n",
    "#Unseen Data = Test Data \n",
    "model_inputs = total_dataset[len(total_dataset)-len(test_data)-prediction_days:].values\n",
    "model_inputs = model_inputs.reshape(-1,1)\n",
    "model_inputs = scaler.transform(model_inputs)\n",
    "\n",
    "#Model Predicions\n",
    "\n",
    "x_test = []\n",
    "\n",
    "for x in range(prediction_days,len(model_inputs)):\n",
    "    x_test.append(scaled_data[x-prediction_days:x,0])\n",
    "\n",
    "x_test = np.array(x_test)    \n",
    "x_test = np.reshape(x_test,(x_test.shape[0],x_test.shape[1],1))  \n",
    "\n",
    "pred_prices = model.predict(x_test)\n",
    "pred_prices = scaler.inverse_transform(pred_prices)"
   ]
  },
  {
   "cell_type": "code",
   "execution_count": 9,
   "metadata": {},
   "outputs": [
    {
     "name": "stdout",
     "output_type": "stream",
     "text": [
      "WARNING:tensorflow:Model was constructed with shape (None, 100, 1) for input Tensor(\"lstm_input:0\", shape=(None, 100, 1), dtype=float32), but it was called on an input with incompatible shape (None, 99, 1).\n",
      "Prediction: [[129.7185]]\n"
     ]
    }
   ],
   "source": [
    "#Predict Next Day\n",
    "real_data = [model_inputs[len(model_inputs)+1-prediction_days:len(model_inputs+1),0]]\n",
    "real_data = np.array(real_data)\n",
    "real_data = np.reshape(real_data,(real_data.shape[0],real_data.shape[1],1))\n",
    "\n",
    "prediction = model.predict(real_data)\n",
    "prediction = scaler.inverse_transform(prediction)\n",
    "print(f\"Prediction: {prediction}\")"
   ]
  },
  {
   "cell_type": "code",
   "execution_count": null,
   "metadata": {},
   "outputs": [],
   "source": []
  }
 ],
 "metadata": {
  "kernelspec": {
   "display_name": "Python 3",
   "language": "python",
   "name": "python3"
  },
  "language_info": {
   "codemirror_mode": {
    "name": "ipython",
    "version": 3
   },
   "file_extension": ".py",
   "mimetype": "text/x-python",
   "name": "python",
   "nbconvert_exporter": "python",
   "pygments_lexer": "ipython3",
   "version": "3.7.7"
  }
 },
 "nbformat": 4,
 "nbformat_minor": 4
}
